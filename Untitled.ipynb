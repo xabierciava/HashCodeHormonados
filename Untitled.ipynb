{
 "cells": [
  {
   "cell_type": "code",
   "execution_count": 8,
   "id": "3a2dc79f",
   "metadata": {},
   "outputs": [],
   "source": [
    "class Habilidad:\n",
    "#     nombre\n",
    "#     nivel\n",
    "    \n",
    "    def __init__(self, _id, nivel):\n",
    "        self.id = _id\n",
    "        self.nivel = nivel\n",
    "\n",
    "class Contribuidor:\n",
    "#     nombre \n",
    "#     habilidades # Lista de Skills\n",
    "    \n",
    "    def __init__(self, nombre, habilidades):\n",
    "        self.nombre = nombre\n",
    "        self.habilidades = habilidades\n",
    "    \n",
    "class Proyecto:\n",
    "#     nombre \n",
    "#     duracion\n",
    "#     puntuacion\n",
    "#     mejor_anterior\n",
    "#     roles # Lista de Skills\n",
    "    \n",
    "    def __init__(self, nombre, duracion, puntuacion, mejor_anterior, roles):\n",
    "        self.nombre = nombre\n",
    "        self.duracion = duracion\n",
    "        self.puntuacion = puntuacion\n",
    "        self.mejor_anterior = mejor_anterior\n",
    "        self.roles = roles"
   ]
  },
  {
   "cell_type": "code",
   "execution_count": 28,
   "id": "5e2047fa",
   "metadata": {},
   "outputs": [
    {
     "name": "stdout",
     "output_type": "stream",
     "text": [
      "Anna\n",
      "Bob\n",
      "Maria\n",
      "Logging\n",
      "WebServer\n",
      "WebChat\n"
     ]
    }
   ],
   "source": [
    "ficheros = [\"a_an_example.in.txt\"]\n",
    "\n",
    "dic_habilidades = {}\n",
    "\n",
    "for fichero in ficheros:\n",
    "    f = open(\"./Downloads/\" + fichero, \"r\")\n",
    " \n",
    "    num_contribuidores, num_proyectos = [int(i) for i in f.readline().split(\" \")]\n",
    "    \n",
    "    for i_contribuidor in range(num_contribuidores):\n",
    "        linea = f.readline().split(\" \")\n",
    "        num_habilidades = int(linea[1])\n",
    "        \n",
    "        nombre_contribuidor = linea[0]\n",
    "        \n",
    "        \n",
    "        for habilidad in range(num_habilidades):\n",
    "            linea = f.readline().split(\" \")\n",
    "            \n",
    "            \n",
    "            \n",
    "            nombre_habilidad = linea[0]\n",
    "            nivel_habilidad = int(linea[1])\n",
    "            \n",
    "            \n",
    "    \n",
    "        \n",
    "        print(nombre_contribuidor)\n",
    "        \n",
    "    for i_proyecto in range(num_proyectos):        \n",
    "        linea = f.readline().split(\" \")\n",
    "        \n",
    "        nombre = linea[0]\n",
    "        \n",
    "        duracion, puntuacion, mejor_anterior, num_roles  = [int(i) for i in linea[1:]]\n",
    "        \n",
    "        for roles in range(num_roles):\n",
    "            linea = f.readline().split(\" \")\n",
    "                                    \n",
    "            nombre_rol = linea[0]\n",
    "            nivel_habilidad = int(linea[1])\n",
    "            \n",
    "\n",
    "        print(nombre)\n",
    "    f.close()\n"
   ]
  },
  {
   "cell_type": "code",
   "execution_count": null,
   "id": "209a4dc4",
   "metadata": {},
   "outputs": [],
   "source": []
  },
  {
   "cell_type": "code",
   "execution_count": null,
   "id": "827797c9",
   "metadata": {},
   "outputs": [],
   "source": []
  },
  {
   "cell_type": "code",
   "execution_count": null,
   "id": "74e3bbf2",
   "metadata": {},
   "outputs": [],
   "source": []
  }
 ],
 "metadata": {
  "kernelspec": {
   "display_name": "Python 3 (ipykernel)",
   "language": "python",
   "name": "python3"
  },
  "language_info": {
   "codemirror_mode": {
    "name": "ipython",
    "version": 3
   },
   "file_extension": ".py",
   "mimetype": "text/x-python",
   "name": "python",
   "nbconvert_exporter": "python",
   "pygments_lexer": "ipython3",
   "version": "3.9.5"
  }
 },
 "nbformat": 4,
 "nbformat_minor": 5
}
